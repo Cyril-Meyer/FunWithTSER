{
 "cells": [
  {
   "cell_type": "code",
   "execution_count": null,
   "id": "13f45341-2f25-4e38-a73c-f86ac6890c1f",
   "metadata": {},
   "outputs": [],
   "source": [
    "import math\n",
    "import numpy as np\n",
    "import sktime\n",
    "from sktime.regression.deep_learning.resnet import ResNetRegressor\n",
    "from sktime.datasets import load_UCR_UEA_dataset\n",
    "import tensorflow as tf\n",
    "\n",
    "import evaluate"
   ]
  },
  {
   "cell_type": "code",
   "execution_count": null,
   "id": "f529735f-06d2-4016-a2be-c496a85233e8",
   "metadata": {},
   "outputs": [],
   "source": [
    "for data in ['BIDMC32HR', 'BIDMC32RR', 'BIDMC32SpO2']:\n",
    "    mse_list = []\n",
    "    rmse_list = []\n",
    "    \n",
    "    train_x, train_y = load_UCR_UEA_dataset(name=data, split=\"train\")\n",
    "    test_x,  test_y  = load_UCR_UEA_dataset(name=data, split=\"test\")\n",
    "    \n",
    "    for i in range(5):\n",
    "        model = ResNetRegressor(n_epochs=20, batch_size=4)\n",
    "        model.fit(train_x, train_y) \n",
    "    \n",
    "        test_z = model.predict(test_x)\n",
    "    \n",
    "        print(data)\n",
    "        mse = evaluate.mse(test_y[:].astype(np.float64), test_z)\n",
    "        mse_list.append(mse)\n",
    "        rmse = evaluate.rmse(test_y[:].astype(np.float64), test_z)\n",
    "        rmse_list.append(rmse)\n",
    "        \n",
    "        print('MSE :', mse)\n",
    "        print('RMSE:', rmse)\n",
    "        evaluate.view(test_y[:].astype(np.float64), test_z)\n",
    "    print('MEAN')\n",
    "    print('MSE :', np.mean(mse_list))\n",
    "    print('RMSE:', np.mean(rmse_list))\n",
    "    print('STD')\n",
    "    print('MSE :', np.std(mse_list))\n",
    "    print('RMSE:', np.std(rmse_list))\n",
    "    print('MEDIAN')\n",
    "    print('MSE :', np.median(mse_list))\n",
    "    print('RMSE:', np.median(rmse_list))"
   ]
  },
  {
   "cell_type": "code",
   "execution_count": null,
   "id": "f53e7c73-8025-4de7-8ffb-fc1396d45ba6",
   "metadata": {},
   "outputs": [],
   "source": []
  }
 ],
 "metadata": {
  "kernelspec": {
   "display_name": "Python 3 (ipykernel)",
   "language": "python",
   "name": "python3"
  },
  "language_info": {
   "codemirror_mode": {
    "name": "ipython",
    "version": 3
   },
   "file_extension": ".py",
   "mimetype": "text/x-python",
   "name": "python",
   "nbconvert_exporter": "python",
   "pygments_lexer": "ipython3",
   "version": "3.10.12"
  }
 },
 "nbformat": 4,
 "nbformat_minor": 5
}
