{
 "cells": [
  {
   "cell_type": "code",
   "execution_count": null,
   "id": "051d0d5d-f687-4717-ba7a-23e3fed41bb3",
   "metadata": {},
   "outputs": [],
   "source": [
    "import math\n",
    "import numpy as np\n",
    "import tensorflow as tf\n",
    "\n",
    "import evaluate"
   ]
  },
  {
   "cell_type": "code",
   "execution_count": null,
   "id": "5041c9cc-17ea-4edd-89db-5b03a0660842",
   "metadata": {},
   "outputs": [],
   "source": [
    "for dataset in ['BIDMC32HR', 'BIDMC32RR', 'BIDMC32SpO2']:\n",
    "    train_x = np.load(f'dataset/{dataset}_train_x.npy')\n",
    "    train_y = np.load(f'dataset/{dataset}_train_y.npy')\n",
    "    test_x  = np.load(f'dataset/{dataset}_test_x.npy')\n",
    "    test_y  = np.load(f'dataset/{dataset}_test_y.npy')\n",
    "    \n",
    "    train_x = np.swapaxes(train_x, 1, 2)\n",
    "    test_x = np.swapaxes(test_x, 1, 2)\n",
    "    \n",
    "    constant = [train_y.mean() for i in range(len(test_y))]\n",
    "    print(dataset)\n",
    "    print('MSE :', evaluate.mse(test_y,  constant))\n",
    "    print('RMSE:', evaluate.rmse(test_y,  constant))\n",
    "    evaluate.view(test_y[:], constant)"
   ]
  },
  {
   "cell_type": "code",
   "execution_count": null,
   "id": "d9c3d7e2-a389-49e6-ba28-155e64a38ab8",
   "metadata": {},
   "outputs": [],
   "source": [
    "for dataset in ['BIDMC32HR', 'BIDMC32RR', 'BIDMC32SpO2']:\n",
    "    train_x = np.load(f'dataset/{dataset}_train_x.npy')\n",
    "    train_y = np.load(f'dataset/{dataset}_train_y.npy')\n",
    "    test_x  = np.load(f'dataset/{dataset}_test_x.npy')\n",
    "    test_y  = np.load(f'dataset/{dataset}_test_y.npy')\n",
    "    \n",
    "    train_x = np.swapaxes(train_x, 1, 2)\n",
    "    test_x = np.swapaxes(test_x, 1, 2)\n",
    "    \n",
    "    percent5 = [test_y[i]*np.random.uniform(0.95, 1.05) for i in range(len(test_y))]\n",
    "    # percent5 = [test_y[i]*1.05 for i in range(len(test_y))]\n",
    "    # percent5 = test_y * (1 + ((0.5-np.random.rand(len(test_y))) / 10))\n",
    "    print(((0.5-np.random.rand(len(test_y))) / 10))\n",
    "    print(test_y.shape)\n",
    "    print(dataset)\n",
    "    print('MSE :', evaluate.mse(test_y,  percent5))\n",
    "    print('RMSE:', evaluate.rmse(test_y,  percent5))\n",
    "    evaluate.view(test_y[:], percent5)"
   ]
  },
  {
   "cell_type": "code",
   "execution_count": null,
   "id": "857d0fa7-85c3-4180-b632-2f877948a7ff",
   "metadata": {},
   "outputs": [],
   "source": []
  }
 ],
 "metadata": {
  "kernelspec": {
   "display_name": "py36tf262",
   "language": "python",
   "name": "py36tf262"
  },
  "language_info": {
   "codemirror_mode": {
    "name": "ipython",
    "version": 3
   },
   "file_extension": ".py",
   "mimetype": "text/x-python",
   "name": "python",
   "nbconvert_exporter": "python",
   "pygments_lexer": "ipython3",
   "version": "3.6.9"
  }
 },
 "nbformat": 4,
 "nbformat_minor": 5
}
